{
 "cells": [
  {
   "cell_type": "markdown",
   "metadata": {},
   "source": [
    "ラベルごとに各フィルターをかけた後にランレングスをかけ.どのフィルターが最適化を調べます。まずfashionmnistの画素をX_train,ラベルをy_trainとして読み込みます。"
   ]
  },
  {
   "cell_type": "code",
   "execution_count": 1,
   "metadata": {},
   "outputs": [],
   "source": [
    "import numpy as np\n",
    "import matplotlib.pyplot as plt\n",
    "import filter\n",
    "from mnistreader import load_mnist\n",
    "from helper import runlength_decode\n",
    "X_train, y_train = load_mnist('', kind='train')"
   ]
  },
  {
   "cell_type": "markdown",
   "metadata": {},
   "source": [
    "ラベルごとに画素の値を分けていきます。画素の値とラベルをくっつけた後，ラベルを基準に降順にソートし，上から取り出していきます。"
   ]
  },
  {
   "cell_type": "code",
   "execution_count": 2,
   "metadata": {},
   "outputs": [],
   "source": [
    "pixelandlavels = np.hstack([X_train, y_train.reshape(60000,1)])\n",
    "pixelandlavels_sorted = pixelandlavels[np.argsort(pixelandlavels[:, -1])]\n",
    "pixel_sorted = np.delete(pixelandlavels_sorted, -1, 1)\n",
    "pixel_label0 = pixel_sorted[0:6000]\n",
    "pixel_label1 = pixel_sorted[6000:12000]\n",
    "pixel_label2 = pixel_sorted[12000:18000]\n",
    "pixel_label3 = pixel_sorted[18000:24000]\n",
    "pixel_label4 = pixel_sorted[24000:30000]\n",
    "pixel_label5 = pixel_sorted[30000:36000]\n",
    "pixel_label6 = pixel_sorted[36000:42000]\n",
    "pixel_label7 = pixel_sorted[42000:48000]\n",
    "pixel_label8 = pixel_sorted[48000:54000]\n",
    "pixel_label9 = pixel_sorted[54000:60000]"
   ]
  },
  {
   "cell_type": "markdown",
   "metadata": {},
   "source": [
    "ラベルごとに，元のデータと4種類のフィルター後のデータそれぞれにランレングス符号化を施し，長さを比較します。"
   ]
  },
  {
   "cell_type": "markdown",
   "metadata": {},
   "source": [
    "ラベル0は以下の通りです。Subが最も有効でした。"
   ]
  },
  {
   "cell_type": "code",
   "execution_count": 3,
   "metadata": {},
   "outputs": [
    {
     "name": "stderr",
     "output_type": "stream",
     "text": [
      "C:\\Users\\dddes\\filter.py:17: RuntimeWarning: overflow encountered in ubyte_scalars\n",
      "  data_filtered[raw, column] = self.data[raw, column] - self.data[raw, column - 1]\n",
      "C:\\Users\\dddes\\filter.py:38: RuntimeWarning: overflow encountered in ubyte_scalars\n",
      "  data_filtered[raw, column] = self.data[raw, column] - self.data[raw - 1, column]\n",
      "C:\\Users\\dddes\\filter.py:60: RuntimeWarning: overflow encountered in ubyte_scalars\n",
      "  data_filtered[raw, column] = self.data[raw, column] - ((self.data[raw, column-1] + self.data[raw - 1, column]) // 2)\n",
      "C:\\Users\\dddes\\filter.py:108: RuntimeWarning: overflow encountered in ubyte_scalars\n",
      "  data_filtered[raw, column] = self.data[raw, column] - self.peath\n",
      "C:\\Users\\dddes\\filter.py:89: RuntimeWarning: overflow encountered in ubyte_scalars\n",
      "  horizon = abs(above - diagonal)\n",
      "C:\\Users\\dddes\\filter.py:90: RuntimeWarning: overflow encountered in ubyte_scalars\n",
      "  vertical = abs(left - diagonal)\n",
      "C:\\Users\\dddes\\filter.py:91: RuntimeWarning: overflow encountered in ubyte_scalars\n",
      "  sum = abs(above - diagonal + left - diagonal)\n"
     ]
    },
    {
     "name": "stdout",
     "output_type": "stream",
     "text": [
      "None: 29221634\n",
      "Sub: 15089991\n",
      "Up: 22853579\n",
      "Average: 20281123\n",
      "Peath: 25472159\n"
     ]
    }
   ],
   "source": [
    "pixel_label0_sub = np.zeros((6000, 784), dtype = np.uint8)\n",
    "pixel_label0_up = np.zeros((6000, 784), dtype = np.uint8)\n",
    "pixel_label0_average = np.zeros((6000, 784), dtype = np.uint8)\n",
    "pixel_label0_peath = np.zeros((6000, 784), dtype = np.uint8)\n",
    "\n",
    "for i in range(0, 30):\n",
    "    for raw in range(i*200, (i+1)*200):\n",
    "        pixel_label0_raw = filter.Filter(pixel_label0[raw, :].reshape(28, 28))\n",
    "        pixel_label0_sub[raw, :] = pixel_label0_raw.sub().reshape(-1,)\n",
    "        pixel_label0_up[raw, :] = pixel_label0_raw.up().reshape(-1,)\n",
    "        pixel_label0_average[raw, :] = pixel_label0_raw.average().reshape(-1,)\n",
    "        pixel_label0_peath[raw, :] = pixel_label0_raw.peath().reshape(-1,)\n",
    "    \n",
    "print('None: ' + str(len(runlength_decode(pixel_label0.reshape(-1)))))\n",
    "print('Sub: ' + str(len(runlength_decode(pixel_label0_sub.reshape(-1)))))\n",
    "print('Up: ' + str(len(runlength_decode(pixel_label0_up.reshape(-1)))))\n",
    "print('Average: ' + str(len(runlength_decode(pixel_label0_average.reshape(-1)))))\n",
    "print('Peath: ' + str(len(runlength_decode(pixel_label0_peath.reshape(-1)))))\n",
    "\n",
    "\n"
   ]
  },
  {
   "cell_type": "markdown",
   "metadata": {},
   "source": [
    "ラベル1は以下の通りです。Averageが最も有効でした。"
   ]
  },
  {
   "cell_type": "code",
   "execution_count": 4,
   "metadata": {},
   "outputs": [
    {
     "name": "stdout",
     "output_type": "stream",
     "text": [
      "None: 17564535\n",
      "Sub: 11180637\n",
      "Up: 20262910\n",
      "Average: 9757762\n",
      "Peath: 16226538\n"
     ]
    }
   ],
   "source": [
    "pixel_label1_sub = np.zeros((6000, 784), dtype = np.uint8)\n",
    "pixel_label1_up = np.zeros((6000, 784), dtype = np.uint8)\n",
    "pixel_label1_average = np.zeros((6000, 784), dtype = np.uint8)\n",
    "pixel_label1_peath = np.zeros((6000, 784), dtype = np.uint8)\n",
    "\n",
    "for i in range(0, 30):\n",
    "    for raw in range(i*200, (i+1)*200):\n",
    "        pixel_label1_raw = filter.Filter(pixel_label1[raw, :].reshape(28, 28))\n",
    "        pixel_label1_sub[raw, :] = pixel_label1_raw.sub().reshape(-1,)\n",
    "        pixel_label1_up[raw, :] = pixel_label1_raw.up().reshape(-1,)\n",
    "        pixel_label1_average[raw, :] = pixel_label1_raw.average().reshape(-1,)\n",
    "        pixel_label1_peath[raw, :] = pixel_label1_raw.peath().reshape(-1,)\n",
    "    \n",
    "print('None: ' + str(len(runlength_decode(pixel_label1.reshape(-1)))))\n",
    "print('Sub: ' + str(len(runlength_decode(pixel_label1_sub.reshape(-1)))))\n",
    "print('Up: ' + str(len(runlength_decode(pixel_label1_up.reshape(-1)))))\n",
    "print('Average: ' + str(len(runlength_decode(pixel_label1_average.reshape(-1)))))\n",
    "print('Peath: ' + str(len(runlength_decode(pixel_label1_peath.reshape(-1)))))"
   ]
  },
  {
   "cell_type": "markdown",
   "metadata": {},
   "source": [
    "ラベル2は以下の通りです。Subが最も有効でした。"
   ]
  },
  {
   "cell_type": "code",
   "execution_count": 5,
   "metadata": {},
   "outputs": [
    {
     "name": "stdout",
     "output_type": "stream",
     "text": [
      "None: 30789551\n",
      "Sub: 17172375\n",
      "Up: 22368713\n",
      "Average: 21280499\n",
      "Peath: 24273536\n"
     ]
    }
   ],
   "source": [
    "pixel_label2_sub = np.zeros((6000, 784), dtype = np.uint8)\n",
    "pixel_label2_up = np.zeros((6000, 784), dtype = np.uint8)\n",
    "pixel_label2_average = np.zeros((6000, 784), dtype = np.uint8)\n",
    "pixel_label2_peath = np.zeros((6000, 784), dtype = np.uint8)\n",
    "\n",
    "for i in range(0, 30):\n",
    "    for raw in range(i*200, (i+1)*200):\n",
    "        pixel_label2_raw = filter.Filter(pixel_label2[raw, :].reshape(28, 28))\n",
    "        pixel_label2_sub[raw, :] = pixel_label2_raw.sub().reshape(-1,)\n",
    "        pixel_label2_up[raw, :] = pixel_label2_raw.up().reshape(-1,)\n",
    "        pixel_label2_average[raw, :] = pixel_label2_raw.average().reshape(-1,)\n",
    "        pixel_label2_peath[raw, :] = pixel_label2_raw.peath().reshape(-1,)\n",
    "    \n",
    "print('None: ' + str(len(runlength_decode(pixel_label2.reshape(-1)))))\n",
    "print('Sub: ' + str(len(runlength_decode(pixel_label2_sub.reshape(-1)))))\n",
    "print('Up: ' + str(len(runlength_decode(pixel_label2_up.reshape(-1)))))\n",
    "print('Average: ' + str(len(runlength_decode(pixel_label2_average.reshape(-1)))))\n",
    "print('Peath: ' + str(len(runlength_decode(pixel_label2_peath.reshape(-1)))))"
   ]
  },
  {
   "cell_type": "markdown",
   "metadata": {},
   "source": [
    "ラベル3は以下の通りです。Subが最も有効でした。"
   ]
  },
  {
   "cell_type": "code",
   "execution_count": 6,
   "metadata": {},
   "outputs": [
    {
     "name": "stdout",
     "output_type": "stream",
     "text": [
      "None: 18817343\n",
      "Sub: 10806005\n",
      "Up: 15291478\n",
      "Average: 12504542\n",
      "Peath: 15656272\n"
     ]
    }
   ],
   "source": [
    "pixel_label3_sub = np.zeros((6000, 784), dtype = np.uint8)\n",
    "pixel_label3_up = np.zeros((6000, 784), dtype = np.uint8)\n",
    "pixel_label3_average = np.zeros((6000, 784), dtype = np.uint8)\n",
    "pixel_label3_peath = np.zeros((6000, 784), dtype = np.uint8)\n",
    "\n",
    "for i in range(0, 30):\n",
    "    for raw in range(i*200, (i+1)*200):\n",
    "        pixel_label3_raw = filter.Filter(pixel_label3[raw, :].reshape(28, 28))\n",
    "        pixel_label3_sub[raw, :] = pixel_label3_raw.sub().reshape(-1,)\n",
    "        pixel_label3_up[raw, :] = pixel_label3_raw.up().reshape(-1,)\n",
    "        pixel_label3_average[raw, :] = pixel_label3_raw.average().reshape(-1,)\n",
    "        pixel_label3_peath[raw, :] = pixel_label3_raw.peath().reshape(-1,)\n",
    "    \n",
    "print('None: ' + str(len(runlength_decode(pixel_label3.reshape(-1)))))\n",
    "print('Sub: ' + str(len(runlength_decode(pixel_label3_sub.reshape(-1)))))\n",
    "print('Up: ' + str(len(runlength_decode(pixel_label3_up.reshape(-1)))))\n",
    "print('Average: ' + str(len(runlength_decode(pixel_label3_average.reshape(-1)))))\n",
    "print('Peath: ' + str(len(runlength_decode(pixel_label3_peath.reshape(-1)))))"
   ]
  },
  {
   "cell_type": "markdown",
   "metadata": {},
   "source": [
    "ラベル4は以下の通りです。Subが最も有効でした。"
   ]
  },
  {
   "cell_type": "code",
   "execution_count": 7,
   "metadata": {},
   "outputs": [
    {
     "name": "stdout",
     "output_type": "stream",
     "text": [
      "None: 21196560\n",
      "Sub: 13584412\n",
      "Up: 17986464\n",
      "Average: 15489250\n",
      "Peath: 19837572\n"
     ]
    }
   ],
   "source": [
    "pixel_label4_sub = np.zeros((6000, 784), dtype = np.uint8)\n",
    "pixel_label4_up = np.zeros((6000, 784), dtype = np.uint8)\n",
    "pixel_label4_average = np.zeros((6000, 784), dtype = np.uint8)\n",
    "pixel_label4_peath = np.zeros((6000, 784), dtype = np.uint8)\n",
    "\n",
    "for i in range(0, 30):\n",
    "    for raw in range(i*200, (i+1)*200):\n",
    "        pixel_label4_raw = filter.Filter(pixel_label4[raw, :].reshape(28, 28))\n",
    "        pixel_label4_sub[raw, :] = pixel_label4_raw.sub().reshape(-1,)\n",
    "        pixel_label4_up[raw, :] = pixel_label4_raw.up().reshape(-1,)\n",
    "        pixel_label4_average[raw, :] = pixel_label4_raw.average().reshape(-1,)\n",
    "        pixel_label4_peath[raw, :] = pixel_label4_raw.peath().reshape(-1,)\n",
    "    \n",
    "print('None: ' + str(len(runlength_decode(pixel_label4.reshape(-1)))))\n",
    "print('Sub: ' + str(len(runlength_decode(pixel_label4_sub.reshape(-1)))))\n",
    "print('Up: ' + str(len(runlength_decode(pixel_label4_up.reshape(-1)))))\n",
    "print('Average: ' + str(len(runlength_decode(pixel_label4_average.reshape(-1)))))\n",
    "print('Peath: ' + str(len(runlength_decode(pixel_label4_peath.reshape(-1)))))"
   ]
  },
  {
   "cell_type": "markdown",
   "metadata": {},
   "source": [
    "ラベル5は以下の通りです。Subが最も有効でした。"
   ]
  },
  {
   "cell_type": "code",
   "execution_count": 8,
   "metadata": {},
   "outputs": [
    {
     "name": "stdout",
     "output_type": "stream",
     "text": [
      "None: 8997132\n",
      "Sub: 7357460\n",
      "Up: 14537298\n",
      "Average: 12066405\n",
      "Peath: 23294268\n"
     ]
    }
   ],
   "source": [
    "pixel_label5_sub = np.zeros((6000, 784), dtype = np.uint8)\n",
    "pixel_label5_up = np.zeros((6000, 784), dtype = np.uint8)\n",
    "pixel_label5_average = np.zeros((6000, 784), dtype = np.uint8)\n",
    "pixel_label5_peath = np.zeros((6000, 784), dtype = np.uint8)\n",
    "\n",
    "for i in range(0, 30):\n",
    "    for raw in range(i*200, (i+1)*200):\n",
    "        pixel_label5_raw = filter.Filter(pixel_label5[raw, :].reshape(28, 28))\n",
    "        pixel_label5_sub[raw, :] = pixel_label5_raw.sub().reshape(-1,)\n",
    "        pixel_label5_up[raw, :] = pixel_label5_raw.up().reshape(-1,)\n",
    "        pixel_label5_average[raw, :] = pixel_label5_raw.average().reshape(-1,)\n",
    "        pixel_label5_peath[raw, :] = pixel_label5_raw.peath().reshape(-1,)\n",
    "    \n",
    "print('None: ' + str(len(runlength_decode(pixel_label5.reshape(-1)))))\n",
    "print('Sub: ' + str(len(runlength_decode(pixel_label5_sub.reshape(-1)))))\n",
    "print('Up: ' + str(len(runlength_decode(pixel_label5_up.reshape(-1)))))\n",
    "print('Average: ' + str(len(runlength_decode(pixel_label5_average.reshape(-1)))))\n",
    "print('Peath: ' + str(len(runlength_decode(pixel_label5_peath.reshape(-1)))))"
   ]
  },
  {
   "cell_type": "markdown",
   "metadata": {},
   "source": [
    "ラベル6は以下の通りです。Subが最も有効でした。"
   ]
  },
  {
   "cell_type": "code",
   "execution_count": 9,
   "metadata": {},
   "outputs": [
    {
     "name": "stdout",
     "output_type": "stream",
     "text": [
      "None: 21081650\n",
      "Sub: 12902105\n",
      "Up: 19736751\n",
      "Average: 16072681\n",
      "Peath: 21499534\n"
     ]
    }
   ],
   "source": [
    "pixel_label6_sub = np.zeros((6000, 784), dtype = np.uint8)\n",
    "pixel_label6_up = np.zeros((6000, 784), dtype = np.uint8)\n",
    "pixel_label6_average = np.zeros((6000, 784), dtype = np.uint8)\n",
    "pixel_label6_peath = np.zeros((6000, 784), dtype = np.uint8)\n",
    "\n",
    "for i in range(0, 30):\n",
    "    for raw in range(i*200, (i+1)*200):\n",
    "        pixel_label6_raw = filter.Filter(pixel_label6[raw, :].reshape(28, 28))\n",
    "        pixel_label6_sub[raw, :] = pixel_label6_raw.sub().reshape(-1,)\n",
    "        pixel_label6_up[raw, :] = pixel_label6_raw.up().reshape(-1,)\n",
    "        pixel_label6_average[raw, :] = pixel_label6_raw.average().reshape(-1,)\n",
    "        pixel_label6_peath[raw, :] = pixel_label6_raw.peath().reshape(-1,)\n",
    "    \n",
    "print('None: ' + str(len(runlength_decode(pixel_label6.reshape(-1)))))\n",
    "print('Sub: ' + str(len(runlength_decode(pixel_label6_sub.reshape(-1)))))\n",
    "print('Up: ' + str(len(runlength_decode(pixel_label6_up.reshape(-1)))))\n",
    "print('Average: ' + str(len(runlength_decode(pixel_label6_average.reshape(-1)))))\n",
    "print('Peath: ' + str(len(runlength_decode(pixel_label6_peath.reshape(-1)))))"
   ]
  },
  {
   "cell_type": "markdown",
   "metadata": {},
   "source": [
    "ラベル7は以下の通りです。Subが最も有効でした。"
   ]
  },
  {
   "cell_type": "code",
   "execution_count": 10,
   "metadata": {},
   "outputs": [
    {
     "name": "stdout",
     "output_type": "stream",
     "text": [
      "None: 9768366\n",
      "Sub: 7368227\n",
      "Up: 11436605\n",
      "Average: 12445784\n",
      "Peath: 19221915\n"
     ]
    }
   ],
   "source": [
    "pixel_label7_sub = np.zeros((6000, 784), dtype = np.uint8)\n",
    "pixel_label7_up = np.zeros((6000, 784), dtype = np.uint8)\n",
    "pixel_label7_average = np.zeros((6000, 784), dtype = np.uint8)\n",
    "pixel_label7_peath = np.zeros((6000, 784), dtype = np.uint8)\n",
    "\n",
    "for i in range(0, 30):\n",
    "    for raw in range(i*200, (i+1)*200):\n",
    "        pixel_label7_raw = filter.Filter(pixel_label7[raw, :].reshape(28, 28))\n",
    "        pixel_label7_sub[raw, :] = pixel_label7_raw.sub().reshape(-1,)\n",
    "        pixel_label7_up[raw, :] = pixel_label7_raw.up().reshape(-1,)\n",
    "        pixel_label7_average[raw, :] = pixel_label7_raw.average().reshape(-1,)\n",
    "        pixel_label7_peath[raw, :] = pixel_label7_raw.peath().reshape(-1,)\n",
    "    \n",
    "print('None: ' + str(len(runlength_decode(pixel_label7.reshape(-1)))))\n",
    "print('Sub: ' + str(len(runlength_decode(pixel_label7_sub.reshape(-1)))))\n",
    "print('Up: ' + str(len(runlength_decode(pixel_label7_up.reshape(-1)))))\n",
    "print('Average: ' + str(len(runlength_decode(pixel_label7_average.reshape(-1)))))\n",
    "print('Peath: ' + str(len(runlength_decode(pixel_label7_peath.reshape(-1)))))"
   ]
  },
  {
   "cell_type": "markdown",
   "metadata": {},
   "source": [
    "ラベル8は以下の通りです。Subが最も有効でした。"
   ]
  },
  {
   "cell_type": "code",
   "execution_count": 11,
   "metadata": {},
   "outputs": [
    {
     "name": "stdout",
     "output_type": "stream",
     "text": [
      "None: 31674166\n",
      "Sub: 15984386\n",
      "Up: 22750316\n",
      "Average: 22541595\n",
      "Peath: 27182869\n"
     ]
    }
   ],
   "source": [
    "pixel_label8_sub = np.zeros((6000, 784), dtype = np.uint8)\n",
    "pixel_label8_up = np.zeros((6000, 784), dtype = np.uint8)\n",
    "pixel_label8_average = np.zeros((6000, 784), dtype = np.uint8)\n",
    "pixel_label8_peath = np.zeros((6000, 784), dtype = np.uint8)\n",
    "\n",
    "for i in range(0, 30):\n",
    "    for raw in range(i*200, (i+1)*200):\n",
    "        pixel_label8_raw = filter.Filter(pixel_label8[raw, :].reshape(28, 28))\n",
    "        pixel_label8_sub[raw, :] = pixel_label8_raw.sub().reshape(-1,)\n",
    "        pixel_label8_up[raw, :] = pixel_label8_raw.up().reshape(-1,)\n",
    "        pixel_label8_average[raw, :] = pixel_label8_raw.average().reshape(-1,)\n",
    "        pixel_label8_peath[raw, :] = pixel_label8_raw.peath().reshape(-1,)\n",
    "    \n",
    "print('None: ' + str(len(runlength_decode(pixel_label8.reshape(-1)))))\n",
    "print('Sub: ' + str(len(runlength_decode(pixel_label8_sub.reshape(-1)))))\n",
    "print('Up: ' + str(len(runlength_decode(pixel_label8_up.reshape(-1)))))\n",
    "print('Average: ' + str(len(runlength_decode(pixel_label8_average.reshape(-1)))))\n",
    "print('Peath: ' + str(len(runlength_decode(pixel_label8_peath.reshape(-1)))))"
   ]
  },
  {
   "cell_type": "markdown",
   "metadata": {},
   "source": [
    "ラベル9は以下の通りです。Subが最も有効でした。"
   ]
  },
  {
   "cell_type": "code",
   "execution_count": 12,
   "metadata": {},
   "outputs": [
    {
     "name": "stdout",
     "output_type": "stream",
     "text": [
      "None: 19268344\n",
      "Sub: 10245441\n",
      "Up: 16895517\n",
      "Average: 15405655\n",
      "Peath: 23491334\n"
     ]
    }
   ],
   "source": [
    "pixel_label9_sub = np.zeros((6000, 784), dtype = np.uint8)\n",
    "pixel_label9_up = np.zeros((6000, 784), dtype = np.uint8)\n",
    "pixel_label9_average = np.zeros((6000, 784), dtype = np.uint8)\n",
    "pixel_label9_peath = np.zeros((6000, 784), dtype = np.uint8)\n",
    "\n",
    "for i in range(0, 30):\n",
    "    for raw in range(i*200, (i+1)*200):\n",
    "        pixel_label9_raw = filter.Filter(pixel_label9[raw, :].reshape(28, 28))\n",
    "        pixel_label9_sub[raw, :] = pixel_label9_raw.sub().reshape(-1,)\n",
    "        pixel_label9_up[raw, :] = pixel_label9_raw.up().reshape(-1,)\n",
    "        pixel_label9_average[raw, :] = pixel_label9_raw.average().reshape(-1,)\n",
    "        pixel_label9_peath[raw, :] = pixel_label9_raw.peath().reshape(-1,)\n",
    "    \n",
    "print('None: ' + str(len(runlength_decode(pixel_label9.reshape(-1)))))\n",
    "print('Sub: ' + str(len(runlength_decode(pixel_label9_sub.reshape(-1)))))\n",
    "print('Up: ' + str(len(runlength_decode(pixel_label9_up.reshape(-1)))))\n",
    "print('Average: ' + str(len(runlength_decode(pixel_label9_average.reshape(-1)))))\n",
    "print('Peath: ' + str(len(runlength_decode(pixel_label9_peath.reshape(-1)))))"
   ]
  }
 ],
 "metadata": {
  "kernelspec": {
   "display_name": "Python 3",
   "language": "python",
   "name": "python3"
  },
  "language_info": {
   "codemirror_mode": {
    "name": "ipython",
    "version": 3
   },
   "file_extension": ".py",
   "mimetype": "text/x-python",
   "name": "python",
   "nbconvert_exporter": "python",
   "pygments_lexer": "ipython3",
   "version": "3.7.6"
  }
 },
 "nbformat": 4,
 "nbformat_minor": 4
}

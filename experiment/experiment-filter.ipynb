{
 "cells": [
  {
   "cell_type": "markdown",
   "metadata": {},
   "source": [
    "フィルターによる輝度値の分布の変化を可視化します。まず，訓練データを読み込んで各フィルターにかけます。"
   ]
  },
  {
   "cell_type": "code",
   "execution_count": 1,
   "metadata": {},
   "outputs": [
    {
     "name": "stderr",
     "output_type": "stream",
     "text": [
      "C:\\Users\\dddes\\filter.py:17: RuntimeWarning: overflow encountered in ubyte_scalars\n",
      "  data_filtered[raw, column] = self.data[raw, column] - self.data[raw, column - 1]\n",
      "C:\\Users\\dddes\\filter.py:38: RuntimeWarning: overflow encountered in ubyte_scalars\n",
      "  data_filtered[raw, column] = self.data[raw, column] - self.data[raw - 1, column]\n",
      "C:\\Users\\dddes\\filter.py:60: RuntimeWarning: overflow encountered in ubyte_scalars\n",
      "  data_filtered[raw, column] = self.data[raw, column] - ((self.data[raw, column-1] + self.data[raw - 1, column]) // 2)\n",
      "C:\\Users\\dddes\\filter.py:89: RuntimeWarning: overflow encountered in ubyte_scalars\n",
      "  horizon = abs(above - diagonal)\n",
      "C:\\Users\\dddes\\filter.py:91: RuntimeWarning: overflow encountered in ubyte_scalars\n",
      "  sum = abs(above - diagonal + left - diagonal)\n",
      "C:\\Users\\dddes\\filter.py:108: RuntimeWarning: overflow encountered in ubyte_scalars\n",
      "  data_filtered[raw, column] = self.data[raw, column] - self.peath\n",
      "C:\\Users\\dddes\\filter.py:90: RuntimeWarning: overflow encountered in ubyte_scalars\n",
      "  vertical = abs(left - diagonal)\n"
     ]
    }
   ],
   "source": [
    "from collections import Counter\n",
    "import matplotlib.pyplot as plt\n",
    "import filter\n",
    "import numpy as np\n",
    "def load_mnist(path, kind='train'):\n",
    "    import os\n",
    "    import gzip\n",
    "    import numpy as np\n",
    "\n",
    "\n",
    "    \"\"\"Load MNIST data from `path`\"\"\"\n",
    "    labels_path = os.path.join(path,\n",
    "                               '%s-labels-idx1-ubyte.gz'\n",
    "                               % kind)\n",
    "    images_path = os.path.join(path,\n",
    "                               '%s-images-idx3-ubyte.gz'\n",
    "                               % kind)\n",
    "\n",
    "    with gzip.open(labels_path, 'rb') as lbpath:\n",
    "        labels = np.frombuffer(lbpath.read(), dtype=np.uint8,\n",
    "                               offset=8)\n",
    "\n",
    "    with gzip.open(images_path, 'rb') as imgpath:\n",
    "        images = np.frombuffer(imgpath.read(), dtype=np.uint8,\n",
    "                               offset=16).reshape(len(labels), 784)\n",
    "\n",
    "    return images, labels\n",
    "\n",
    "X_train, y_train = load_mnist('', kind='train')\n",
    "\n",
    "sub_pixels = np.zeros((60000, 784), dtype = np.uint8)\n",
    "up_pixels = np.zeros((60000, 784), dtype = np.uint8)\n",
    "average_pixels = np.zeros((60000, 784), dtype = np.uint8)\n",
    "peath_pixels = np.zeros((60000, 784), dtype = np.uint8)\n",
    "\n",
    "for i in range(0,10):\n",
    "    for raw in range(i*6000, (i+1)*6000):\n",
    "        pixel_raw = filter.Filter(X_train[raw, :].reshape(28, 28))\n",
    "        sub_pixels[raw, :] = pixel_raw.sub().reshape(-1,)\n",
    "        up_pixels [raw, :] = pixel_raw.up().reshape(-1,)\n",
    "        average_pixels[raw, :] = pixel_raw.average().reshape(-1,)\n",
    "        peath_pixels[raw, :] = pixel_raw.peath().reshape(-1,)\n"
   ]
  },
  {
   "cell_type": "markdown",
   "metadata": {},
   "source": [
    "次にグラフを表示していきます。元の分布，sub,up,average,peathの順に表示します。"
   ]
  },
  {
   "cell_type": "code",
   "execution_count": 2,
   "metadata": {},
   "outputs": [
    {
     "name": "stderr",
     "output_type": "stream",
     "text": [
      "findfont: Font family ['IPAexGothic'] not found. Falling back to DejaVu Sans.\n",
      "findfont: Font family ['IPAexGothic'] not found. Falling back to DejaVu Sans.\n"
     ]
    },
    {
     "data": {
      "image/png": "[encoded data removed]",
      "text/plain": [
       "<Figure size 432x288 with 1 Axes>"
      ]
     },
     "metadata": {
      "needs_background": "light"
     },
     "output_type": "display_data"
    }
   ],
   "source": [
    "plt.hist(np.ravel(X_train), bins=255, rwidth=0.8, range=(0, 255))\n",
    "plt.title(\"None\")\n",
    "plt.show()"
   ]
  },
  {
   "cell_type": "code",
   "execution_count": 3,
   "metadata": {},
   "outputs": [
    {
     "data": {
      "image/png": "[encoded data removed]",
      "text/plain": [
       "<Figure size 432x288 with 1 Axes>"
      ]
     },
     "metadata": {
      "needs_background": "light"
     },
     "output_type": "display_data"
    }
   ],
   "source": [
    "plt.hist(np.ravel(sub_pixels), bins=255, rwidth=0.8, range=(0, 255))\n",
    "plt.title(\"Sub\")\n",
    "plt.show()"
   ]
  },
  {
   "cell_type": "code",
   "execution_count": 4,
   "metadata": {},
   "outputs": [
    {
     "data": {
      "image/png": "[encoded data removed]",
      "text/plain": [
       "<Figure size 432x288 with 1 Axes>"
      ]
     },
     "metadata": {
      "needs_background": "light"
     },
     "output_type": "display_data"
    }
   ],
   "source": [
    "plt.hist(np.ravel(up_pixels), bins=255, rwidth=0.8, range=(0, 255))\n",
    "plt.title(\"Up\")\n",
    "plt.show()"
   ]
  },
  {
   "cell_type": "code",
   "execution_count": 5,
   "metadata": {},
   "outputs": [
    {
     "data": {
      "image/png": "[encoded data removed]",
      "text/plain": [
       "<Figure size 432x288 with 1 Axes>"
      ]
     },
     "metadata": {
      "needs_background": "light"
     },
     "output_type": "display_data"
    }
   ],
   "source": [
    "plt.hist(np.ravel(average_pixels), bins=255, rwidth=0.8, range=(0, 255))\n",
    "plt.title(\"Average\")\n",
    "plt.show()"
   ]
  },
  {
   "cell_type": "code",
   "execution_count": 7,
   "metadata": {},
   "outputs": [
    {
     "data": {
      "image/png": "[encoded data removed]",
      "text/plain": [
       "<Figure size 432x288 with 1 Axes>"
      ]
     },
     "metadata": {
      "needs_background": "light"
     },
     "output_type": "display_data"
    }
   ],
   "source": [
    "plt.hist(np.ravel(peath_pixels), bins=255, rwidth=0.8, range=(0, 255))\n",
    "plt.title(\"Peath\")\n",
    "plt.show()"
   ]
  },
  {
   "cell_type": "code",
   "execution_count": null,
   "metadata": {},
   "outputs": [],
   "source": []
  }
 ],
 "metadata": {
  "kernelspec": {
   "display_name": "Python 3",
   "language": "python",
   "name": "python3"
  },
  "language_info": {
   "codemirror_mode": {
    "name": "ipython",
    "version": 3
   },
   "file_extension": ".py",
   "mimetype": "text/x-python",
   "name": "python",
   "nbconvert_exporter": "python",
   "pygments_lexer": "ipython3",
   "version": "3.7.6"
  }
 },
 "nbformat": 4,
 "nbformat_minor": 4
}

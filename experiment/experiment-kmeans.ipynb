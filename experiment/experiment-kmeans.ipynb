{
 "metadata": {
  "language_info": {
   "codemirror_mode": {
    "name": "ipython",
    "version": 3
   },
   "file_extension": ".py",
   "mimetype": "text/x-python",
   "name": "python",
   "nbconvert_exporter": "python",
   "pygments_lexer": "ipython3",
   "version": 3
  },
  "orig_nbformat": 2,
  "kernelspec": {
   "name": "python_defaultSpec_1595917354084",
   "display_name": "Python 3.7.4 64-bit"
  }
 },
 "nbformat": 4,
 "nbformat_minor": 2,
 "cells": [
  {
   "cell_type": "code",
   "execution_count": 14,
   "metadata": {},
   "outputs": [],
   "source": [
    "import matplotlib.pyplot as plt\n",
    "import numpy as np\n",
    "from filter import filter_encode, filter_decode\n",
    "from helper import runlength_encode\n",
    "import keras\n",
    "from collections import defaultdict\n",
    "\n",
    "\n",
    "from sklearn.cluster import KMeans, MiniBatchKMeans\n",
    "\n",
    "import multiprocessing as multi\n",
    "from multiprocessing import Pool\n",
    "\n",
    "import pickle"
   ]
  },
  {
   "cell_type": "code",
   "execution_count": 2,
   "metadata": {},
   "outputs": [],
   "source": [
    "fashion_mnist = keras.datasets.fashion_mnist\n",
    "(x_train, y_train), (test_images, test_labels) = fashion_mnist.load_data()"
   ]
  },
  {
   "cell_type": "code",
   "execution_count": 3,
   "metadata": {},
   "outputs": [],
   "source": [
    "def freq_vector(arr):\n",
    "    d = {i: 1 for i in range(256)}\n",
    "    for i in arr:\n",
    "        d[i] += 1\n",
    "    return d\n",
    "\n",
    "def to_freq(img):\n",
    "    fil = filter_encode(img, fid=1)\n",
    "    rle = runlength_encode(fil.ravel())\n",
    "    return list(freq_vector(rle).values())"
   ]
  },
  {
   "cell_type": "code",
   "execution_count": 4,
   "metadata": {
    "tags": []
   },
   "outputs": [
    {
     "output_type": "stream",
     "name": "stdout",
     "text": "[[ 68  23  30 ...  16  19  13]\n [102  37  40 ...  23  35  31]\n [105  22  26 ...  10  18  21]\n ...\n [ 86  20  14 ...  13  10  18]\n [ 98  37  43 ...  20  19  16]\n [ 44  17   6 ...   8   3  15]]\n"
    }
   ],
   "source": [
    "X = [x_train[i, :, :] for i in range(60000)]\n",
    "\n",
    "n_cores = multi.cpu_count()\n",
    "with Pool(n_cores) as p:\n",
    "    freq = p.map(to_freq, X)\n",
    "\n",
    "print(np.array(freq))\n",
    "\n",
    "new_X = np.array(freq)"
   ]
  },
  {
   "cell_type": "code",
   "execution_count": 5,
   "metadata": {},
   "outputs": [
    {
     "output_type": "execute_result",
     "data": {
      "text/plain": "(60000, 256)"
     },
     "metadata": {},
     "execution_count": 5
    }
   ],
   "source": [
    "new_X.shape"
   ]
  },
  {
   "cell_type": "code",
   "execution_count": 6,
   "metadata": {},
   "outputs": [
    {
     "output_type": "execute_result",
     "data": {
      "text/plain": "array([[127.        ,  52.        ,  56.        , ...,  23.        ,\n         29.        ,  53.        ],\n       [ 93.        ,  32.        ,  42.        , ...,  21.        ,\n         20.        ,  31.        ],\n       [ 47.23243243,   1.17297297,  11.41081081, ...,  16.09189189,\n          2.05405405,   1.51891892],\n       ...,\n       [103.82330827,  18.0075188 ,  18.44360902, ...,   8.39849624,\n          8.72556391,  16.7443609 ],\n       [ 90.97530864,  43.11111111,  57.47839506, ...,  18.25925926,\n         25.57098765,  35.97839506],\n       [ 50.59447005,   2.55299539,  33.21198157, ...,   2.64976959,\n         20.0921659 ,   2.57142857]])"
     },
     "metadata": {},
     "execution_count": 6
    }
   ],
   "source": [
    "km = MiniBatchKMeans(n_clusters=256, max_iter=1000)\n",
    "\n",
    "km.fit(new_X)\n",
    "km.cluster_centers_"
   ]
  },
  {
   "cell_type": "code",
   "execution_count": 8,
   "metadata": {},
   "outputs": [
    {
     "output_type": "execute_result",
     "data": {
      "text/plain": "numpy.ndarray"
     },
     "metadata": {},
     "execution_count": 8
    }
   ],
   "source": [
    "type(km.labels_)"
   ]
  },
  {
   "cell_type": "code",
   "execution_count": 16,
   "metadata": {},
   "outputs": [],
   "source": [
    "from huffman import HuffmanCoding\n",
    "\n",
    "dicts = []\n",
    "trees = []\n",
    "\n",
    "for i in range(256):\n",
    "    huff = HuffmanCoding()\n",
    "    label = new_X[km.labels_ == i]\n",
    "\n",
    "    enc = huff.encode(label.ravel())\n",
    "\n",
    "    dicts.append(huff.code)\n",
    "    trees.append(huff.tree)\n",
    "\n"
   ]
  },
  {
   "cell_type": "code",
   "execution_count": 18,
   "metadata": {},
   "outputs": [],
   "source": [
    "with open(\"dicts.pkl\", \"wb\") as f:\n",
    "    pickle.dump(dicts, f)\n",
    "\n",
    "with open(\"trees.pkl\", \"wb\") as f:\n",
    "    pickle.dump(trees, f)"
   ]
  },
  {
   "cell_type": "code",
   "execution_count": 19,
   "metadata": {
    "tags": []
   },
   "outputs": [
    {
     "output_type": "stream",
     "name": "stdout",
     "text": "[<huffman.Node object at 0x14bcce790>, <huffman.Node object at 0x14f0342d0>, <huffman.Node object at 0x14fcdf7d0>, <huffman.Node object at 0x14fd8cad0>, <huffman.Node object at 0x14bcca750>, <huffman.Node object at 0x14ee15910>, <huffman.Node object at 0x1504fad90>, <huffman.Node object at 0x1504bd8d0>, <huffman.Node object at 0x14fcafdd0>, <huffman.Node object at 0x15044d590>, <huffman.Node object at 0x14bcef850>, <huffman.Node object at 0x14f7fa610>, <huffman.Node object at 0x14f548890>, <huffman.Node object at 0x14f5dd710>, <huffman.Node object at 0x14fbd90d0>, <huffman.Node object at 0x14f612710>, <huffman.Node object at 0x14f80ce90>, <huffman.Node object at 0x14f047650>, <huffman.Node object at 0x14bcd6690>, <huffman.Node object at 0x14fab2710>, <huffman.Node object at 0x14f5e3590>, <huffman.Node object at 0x14f938ed0>, <huffman.Node object at 0x14bcea990>, <huffman.Node object at 0x14bce45d0>, <huffman.Node object at 0x14f104ed0>, <huffman.Node object at 0x14f790dd0>, <huffman.Node object at 0x14f98c850>, <huffman.Node object at 0x14f54ebd0>, <huffman.Node object at 0x14f6c4490>, <huffman.Node object at 0x14bcdf690>, <huffman.Node object at 0x14bca5250>, <huffman.Node object at 0x14bcf1150>, <huffman.Node object at 0x14bc7d990>, <huffman.Node object at 0x14fdc3090>, <huffman.Node object at 0x15085f090>, <huffman.Node object at 0x150824e90>, <huffman.Node object at 0x15086f8d0>, <huffman.Node object at 0x15087bdd0>, <huffman.Node object at 0x150870650>, <huffman.Node object at 0x150893d50>, <huffman.Node object at 0x1508d42d0>, <huffman.Node object at 0x1508aae90>, <huffman.Node object at 0x1508a4950>, <huffman.Node object at 0x1508bf110>, <huffman.Node object at 0x15093dcd0>, <huffman.Node object at 0x150921350>, <huffman.Node object at 0x15094be90>, <huffman.Node object at 0x150955490>, <huffman.Node object at 0x150962890>, <huffman.Node object at 0x150981590>, <huffman.Node object at 0x150769e10>, <huffman.Node object at 0x15076e990>, <huffman.Node object at 0x1507830d0>, <huffman.Node object at 0x150798c50>, <huffman.Node object at 0x1507bcb50>, <huffman.Node object at 0x1507ac6d0>, <huffman.Node object at 0x1507acd90>, <huffman.Node object at 0x1507a3bd0>, <huffman.Node object at 0x1507d9fd0>, <huffman.Node object at 0x1507b7650>, <huffman.Node object at 0x1507b02d0>, <huffman.Node object at 0x1509ac410>, <huffman.Node object at 0x1509acc50>, <huffman.Node object at 0x1509b5650>, <huffman.Node object at 0x1509be050>, <huffman.Node object at 0x1509ceb50>, <huffman.Node object at 0x1509dff90>, <huffman.Node object at 0x1509e7e10>, <huffman.Node object at 0x150a094d0>, <huffman.Node object at 0x150a09e90>, <huffman.Node object at 0x150a2b050>, <huffman.Node object at 0x150a438d0>, <huffman.Node object at 0x150a5c8d0>, <huffman.Node object at 0x150a6de90>, <huffman.Node object at 0x150a8ebd0>, <huffman.Node object at 0x150a9f490>, <huffman.Node object at 0x150a9fbd0>, <huffman.Node object at 0x150aa73d0>, <huffman.Node object at 0x150ac0250>, <huffman.Node object at 0x150ad1290>, <huffman.Node object at 0x150ad1dd0>, <huffman.Node object at 0x150ae1f90>, <huffman.Node object at 0x150af38d0>, <huffman.Node object at 0x150b03690>, <huffman.Node object at 0x150b14bd0>, <huffman.Node object at 0x150b1d350>, <huffman.Node object at 0x150b1da90>, <huffman.Node object at 0x150b24410>, <huffman.Node object at 0x150b352d0>, <huffman.Node object at 0x150b3e9d0>, <huffman.Node object at 0x150b573d0>, <huffman.Node object at 0x150b57c90>, <huffman.Node object at 0x150b6f190>, <huffman.Node object at 0x150b80ad0>, <huffman.Node object at 0x150b998d0>, <huffman.Node object at 0x150bb3f50>, <huffman.Node object at 0x150bcb0d0>, <huffman.Node object at 0x150be4050>, <huffman.Node object at 0x150bfe050>, <huffman.Node object at 0x150c06cd0>, <huffman.Node object at 0x150c16b90>, <huffman.Node object at 0x150c2f490>, <huffman.Node object at 0x150c403d0>, <huffman.Node object at 0x150c40890>, <huffman.Node object at 0x150c48b10>, <huffman.Node object at 0x150c5a8d0>, <huffman.Node object at 0x150c6ad10>, <huffman.Node object at 0x150c7b7d0>, <huffman.Node object at 0x150c95150>, <huffman.Node object at 0x150ca4c10>, <huffman.Node object at 0x150cad390>, <huffman.Node object at 0x150cbe550>, <huffman.Node object at 0x150cdf590>, <huffman.Node object at 0x150cf8490>, <huffman.Node object at 0x150d09c50>, <huffman.Node object at 0x150d21a50>, <huffman.Node object at 0x150d43110>, <huffman.Node object at 0x150d5c190>, <huffman.Node object at 0x150d5c9d0>, <huffman.Node object at 0x150d6dc10>, <huffman.Node object at 0x150d75410>, <huffman.Node object at 0x150d865d0>, <huffman.Node object at 0x150d8ff50>, <huffman.Node object at 0x150da7250>, <huffman.Node object at 0x150db8810>, <huffman.Node object at 0x150dc9d50>, <huffman.Node object at 0x150dea210>, <huffman.Node object at 0x150e03b90>, <huffman.Node object at 0x150e0c590>, <huffman.Node object at 0x150e1dfd0>, <huffman.Node object at 0x150e3ea10>, <huffman.Node object at 0x150e57910>, <huffman.Node object at 0x150e5f610>, <huffman.Node object at 0x150e66790>, <huffman.Node object at 0x150e70e10>, <huffman.Node object at 0x150e7f650>, <huffman.Node object at 0x150e7fc90>, <huffman.Node object at 0x150e91fd0>, <huffman.Node object at 0x150eb2390>, <huffman.Node object at 0x150eb2cd0>, <huffman.Node object at 0x150ebaad0>, <huffman.Node object at 0x150ed3650>, <huffman.Node object at 0x150ee4e10>, <huffman.Node object at 0x150ef57d0>, <huffman.Node object at 0x150f06c10>, <huffman.Node object at 0x150f0f610>, <huffman.Node object at 0x150f201d0>, <huffman.Node object at 0x150f30410>, <huffman.Node object at 0x150f40bd0>, <huffman.Node object at 0x150f52410>, <huffman.Node object at 0x150f62bd0>, <huffman.Node object at 0x150f6a250>, <huffman.Node object at 0x150f73950>, <huffman.Node object at 0x150f83810>, <huffman.Node object at 0x150f95bd0>, <huffman.Node object at 0x150fae450>, <huffman.Node object at 0x150fc6b50>, <huffman.Node object at 0x150fd7690>, <huffman.Node object at 0x150fe1110>, <huffman.Node object at 0x150fe8210>, <huffman.Node object at 0x150ff9a50>, <huffman.Node object at 0x151009f90>, <huffman.Node object at 0x15101a550>, <huffman.Node object at 0x1510332d0>, <huffman.Node object at 0x151044590>, <huffman.Node object at 0x15105e210>, <huffman.Node object at 0x15105eb50>, <huffman.Node object at 0x151065cd0>, <huffman.Node object at 0x15106e1d0>, <huffman.Node object at 0x15107ff90>, <huffman.Node object at 0x151098a90>, <huffman.Node object at 0x1510a86d0>, <huffman.Node object at 0x1510b9190>, <huffman.Node object at 0x1510d3210>, <huffman.Node object at 0x1510dbd90>, <huffman.Node object at 0x1510ebdd0>, <huffman.Node object at 0x1510fdf10>, <huffman.Node object at 0x151116410>, <huffman.Node object at 0x151126450>, <huffman.Node object at 0x1511403d0>, <huffman.Node object at 0x151140d90>, <huffman.Node object at 0x151159790>, <huffman.Node object at 0x15116a450>, <huffman.Node object at 0x15117a510>, <huffman.Node object at 0x15118a950>, <huffman.Node object at 0x15119de10>, <huffman.Node object at 0x1511ad850>, <huffman.Node object at 0x1511bd410>, <huffman.Node object at 0x1511c5790>, <huffman.Node object at 0x1511e7650>, <huffman.Node object at 0x1511f8110>, <huffman.Node object at 0x151201090>, <huffman.Node object at 0x1512112d0>, <huffman.Node object at 0x151211a90>, <huffman.Node object at 0x15122a310>, <huffman.Node object at 0x15122aa50>, <huffman.Node object at 0x15123c090>, <huffman.Node object at 0x15124c650>, <huffman.Node object at 0x15125d310>, <huffman.Node object at 0x151266090>, <huffman.Node object at 0x15126d490>, <huffman.Node object at 0x15126dd50>, <huffman.Node object at 0x151277dd0>, <huffman.Node object at 0x151286690>, <huffman.Node object at 0x15128fc90>, <huffman.Node object at 0x1512a1a50>, <huffman.Node object at 0x1512b2b90>, <huffman.Node object at 0x1512c2a50>, <huffman.Node object at 0x1512d4b90>, <huffman.Node object at 0x1512ec310>, <huffman.Node object at 0x1512ecb50>, <huffman.Node object at 0x1512f53d0>, <huffman.Node object at 0x151305090>, <huffman.Node object at 0x1513166d0>, <huffman.Node object at 0x151327310>, <huffman.Node object at 0x15132fc10>, <huffman.Node object at 0x1513407d0>, <huffman.Node object at 0x151351890>, <huffman.Node object at 0x15135a210>, <huffman.Node object at 0x15136a350>, <huffman.Node object at 0x15137ba10>, <huffman.Node object at 0x151394310>, <huffman.Node object at 0x1513a5a50>, <huffman.Node object at 0x1513b6490>, <huffman.Node object at 0x1513c6950>, <huffman.Node object at 0x1513d7910>, <huffman.Node object at 0x1513f1390>, <huffman.Node object at 0x1514011d0>, <huffman.Node object at 0x151411b90>, <huffman.Node object at 0x151424450>, <huffman.Node object at 0x151434490>, <huffman.Node object at 0x15143c990>, <huffman.Node object at 0x15144dfd0>, <huffman.Node object at 0x1514671d0>, <huffman.Node object at 0x151477210>, <huffman.Node object at 0x15147fd90>, <huffman.Node object at 0x151490c50>, <huffman.Node object at 0x1514a2310>, <huffman.Node object at 0x1514a9710>, <huffman.Node object at 0x1514bacd0>, <huffman.Node object at 0x1514cbb10>, <huffman.Node object at 0x1514e5090>, <huffman.Node object at 0x1514e5c50>, <huffman.Node object at 0x1514f5310>, <huffman.Node object at 0x1514fea10>, <huffman.Node object at 0x151507190>, <huffman.Node object at 0x151518050>, <huffman.Node object at 0x151528e90>, <huffman.Node object at 0x151548450>, <huffman.Node object at 0x151548d10>, <huffman.Node object at 0x151562210>, <huffman.Node object at 0x15156bf10>, <huffman.Node object at 0x15157c8d0>, <huffman.Node object at 0x15158c510>, <huffman.Node object at 0x15159d450>, <huffman.Node object at 0x1515b6850>]\n"
    }
   ],
   "source": [
    "with open(\"trees.pkl\", \"rb\") as f:\n",
    "    trees_loaded = pickle.load(f)\n",
    "\n",
    "print(trees_loaded)"
   ]
  },
  {
   "cell_type": "code",
   "execution_count": 21,
   "metadata": {},
   "outputs": [
    {
     "output_type": "execute_result",
     "data": {
      "text/plain": "array([[127.        ,  52.        ,  56.        , ...,  23.        ,\n         29.        ,  53.        ],\n       [ 93.        ,  32.        ,  42.        , ...,  21.        ,\n         20.        ,  31.        ],\n       [ 47.23243243,   1.17297297,  11.41081081, ...,  16.09189189,\n          2.05405405,   1.51891892],\n       ...,\n       [103.82330827,  18.0075188 ,  18.44360902, ...,   8.39849624,\n          8.72556391,  16.7443609 ],\n       [ 90.97530864,  43.11111111,  57.47839506, ...,  18.25925926,\n         25.57098765,  35.97839506],\n       [ 50.59447005,   2.55299539,  33.21198157, ...,   2.64976959,\n         20.0921659 ,   2.57142857]])"
     },
     "metadata": {},
     "execution_count": 21
    }
   ],
   "source": [
    "with open(\"cluster_centers.pkl\", \"wb\") as f:\n",
    "    pickle.dump(km.cluster_centers_, f)\n",
    "\n",
    "km.cluster_centers_"
   ]
  },
  {
   "cell_type": "code",
   "execution_count": null,
   "metadata": {},
   "outputs": [],
   "source": []
  }
 ]
}
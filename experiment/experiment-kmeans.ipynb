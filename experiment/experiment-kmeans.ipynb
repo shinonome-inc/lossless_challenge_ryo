{
 "metadata": {
  "language_info": {
   "codemirror_mode": {
    "name": "ipython",
    "version": 3
   },
   "file_extension": ".py",
   "mimetype": "text/x-python",
   "name": "python",
   "nbconvert_exporter": "python",
   "pygments_lexer": "ipython3",
   "version": 3
  },
  "orig_nbformat": 2,
  "kernelspec": {
   "name": "python_defaultSpec_1596036305641",
   "display_name": "Python 3.7.4 64-bit"
  }
 },
 "nbformat": 4,
 "nbformat_minor": 2,
 "cells": [
  {
   "cell_type": "code",
   "execution_count": 1,
   "metadata": {},
   "outputs": [],
   "source": [
    "import matplotlib.pyplot as plt\n",
    "import numpy as np\n",
    "from filter import filter_encode, filter_decode\n",
    "from helper import runlength_encode\n",
    "import keras\n",
    "from collections import defaultdict\n",
    "\n",
    "from itertools import chain\n",
    "\n",
    "from sklearn.cluster import KMeans, MiniBatchKMeans\n",
    "\n",
    "import multiprocessing as multi\n",
    "from multiprocessing import Pool\n",
    "\n",
    "import pickle"
   ]
  },
  {
   "cell_type": "code",
   "execution_count": 2,
   "metadata": {},
   "outputs": [],
   "source": [
    "fashion_mnist = keras.datasets.fashion_mnist\n",
    "(x_train, y_train), (test_images, test_labels) = fashion_mnist.load_data()"
   ]
  },
  {
   "cell_type": "code",
   "execution_count": 3,
   "metadata": {},
   "outputs": [],
   "source": [
    "def freq_vector(arr):\n",
    "    d = {i: 1 for i in range(256)}\n",
    "    for i in arr:\n",
    "        d[i] += 1\n",
    "    return d\n",
    "\n",
    "def to_freq(img):\n",
    "    fil = filter_encode(img, fid=1)\n",
    "    rle = runlength_encode(fil.ravel())\n",
    "    return list(freq_vector(rle).values())"
   ]
  },
  {
   "cell_type": "code",
   "execution_count": 4,
   "metadata": {},
   "outputs": [
    {
     "output_type": "error",
     "ename": "NameError",
     "evalue": "name 'X' is not defined",
     "traceback": [
      "\u001b[0;31m---------------------------------------------------------------------------\u001b[0m",
      "\u001b[0;31mNameError\u001b[0m                                 Traceback (most recent call last)",
      "\u001b[0;32m<ipython-input-4-19e8a93aab81>\u001b[0m in \u001b[0;36m<module>\u001b[0;34m\u001b[0m\n\u001b[1;32m      3\u001b[0m \u001b[0mn_cores\u001b[0m \u001b[0;34m=\u001b[0m \u001b[0mmulti\u001b[0m\u001b[0;34m.\u001b[0m\u001b[0mcpu_count\u001b[0m\u001b[0;34m(\u001b[0m\u001b[0;34m)\u001b[0m\u001b[0;34m\u001b[0m\u001b[0;34m\u001b[0m\u001b[0m\n\u001b[1;32m      4\u001b[0m \u001b[0;32mwith\u001b[0m \u001b[0mPool\u001b[0m\u001b[0;34m(\u001b[0m\u001b[0mn_cores\u001b[0m\u001b[0;34m)\u001b[0m \u001b[0;32mas\u001b[0m \u001b[0mp\u001b[0m\u001b[0;34m:\u001b[0m\u001b[0;34m\u001b[0m\u001b[0;34m\u001b[0m\u001b[0m\n\u001b[0;32m----> 5\u001b[0;31m     \u001b[0mfreq\u001b[0m \u001b[0;34m=\u001b[0m \u001b[0mp\u001b[0m\u001b[0;34m.\u001b[0m\u001b[0mmap\u001b[0m\u001b[0;34m(\u001b[0m\u001b[0mto_freq\u001b[0m\u001b[0;34m,\u001b[0m \u001b[0mX\u001b[0m\u001b[0;34m)\u001b[0m\u001b[0;34m\u001b[0m\u001b[0;34m\u001b[0m\u001b[0m\n\u001b[0m",
      "\u001b[0;31mNameError\u001b[0m: name 'X' is not defined"
     ]
    }
   ],
   "source": [
    "rles = []\n",
    "\n",
    "n_cores = multi.cpu_count()\n",
    "with Pool(n_cores) as p:\n",
    "    freq = p.map(to_freq, X)"
   ]
  },
  {
   "cell_type": "code",
   "execution_count": 6,
   "metadata": {
    "tags": []
   },
   "outputs": [
    {
     "output_type": "stream",
     "name": "stdout",
     "text": "[[ 68  23  30 ...  16  19  13]\n [102  37  40 ...  23  35  31]\n [105  22  26 ...  10  18  21]\n ...\n [ 86  20  14 ...  13  10  18]\n [ 98  37  43 ...  20  19  16]\n [ 44  17   6 ...   8   3  15]]\n"
    }
   ],
   "source": [
    "X = [x_train[i, :, :] for i in range(60000)]\n",
    "\n",
    "n_cores = multi.cpu_count()\n",
    "with Pool(n_cores) as p:\n",
    "    freq = p.map(to_freq, X)\n",
    "\n",
    "print(np.array(freq))\n",
    "\n",
    "new_X = np.array(freq)"
   ]
  },
  {
   "cell_type": "code",
   "execution_count": 7,
   "metadata": {},
   "outputs": [
    {
     "output_type": "execute_result",
     "data": {
      "text/plain": "(60000, 256)"
     },
     "metadata": {},
     "execution_count": 7
    }
   ],
   "source": [
    "new_X.shape"
   ]
  },
  {
   "cell_type": "code",
   "execution_count": 8,
   "metadata": {},
   "outputs": [
    {
     "output_type": "execute_result",
     "data": {
      "text/plain": "array([[111.8164557 ,  20.34810127,  35.67088608, ...,  27.96202532,\n         29.08227848,  25.38607595],\n       [ 35.59452055,  10.7369863 ,  17.96986301, ...,   9.40821918,\n         10.40273973,  10.61917808],\n       [ 75.12121212,  12.03030303,  14.85353535, ...,   9.26767677,\n          9.62121212,  11.46969697],\n       ...,\n       [ 74.01877934,  17.82629108,  34.15023474, ...,  13.18779343,\n         17.7370892 ,  15.86384977],\n       [ 80.83414239,  23.85355987,  37.92394822, ...,  15.97168285,\n         19.91666667,  22.1618123 ],\n       [ 40.54285714,   1.13333333,  15.0952381 , ...,   6.95238095,\n          7.39047619,   1.58095238]])"
     },
     "metadata": {},
     "execution_count": 8
    }
   ],
   "source": [
    "km = MiniBatchKMeans(n_clusters=256, max_iter=1000)\n",
    "\n",
    "km.fit(new_X)\n",
    "km.cluster_centers_"
   ]
  },
  {
   "cell_type": "code",
   "execution_count": 11,
   "metadata": {},
   "outputs": [
    {
     "output_type": "execute_result",
     "data": {
      "text/plain": "numpy.ndarray"
     },
     "metadata": {},
     "execution_count": 11
    }
   ],
   "source": [
    "type(km.labels_)"
   ]
  },
  {
   "cell_type": "code",
   "execution_count": 12,
   "metadata": {},
   "outputs": [
    {
     "output_type": "execute_result",
     "data": {
      "text/plain": "array([[[0, 0, 0, ..., 0, 0, 0],\n        [0, 0, 0, ..., 0, 0, 0],\n        [0, 0, 0, ..., 0, 0, 0],\n        ...,\n        [0, 0, 0, ..., 0, 0, 0],\n        [0, 0, 0, ..., 0, 0, 0],\n        [0, 0, 0, ..., 0, 0, 0]],\n\n       [[0, 0, 0, ..., 0, 0, 0],\n        [0, 0, 0, ..., 1, 0, 0],\n        [0, 0, 0, ..., 0, 0, 0],\n        ...,\n        [0, 0, 0, ..., 0, 0, 0],\n        [0, 0, 0, ..., 0, 0, 0],\n        [0, 0, 0, ..., 0, 0, 0]],\n\n       [[0, 0, 0, ..., 0, 0, 0],\n        [0, 0, 0, ..., 0, 0, 0],\n        [0, 0, 0, ..., 0, 0, 0],\n        ...,\n        [0, 0, 0, ..., 0, 0, 0],\n        [0, 0, 0, ..., 0, 0, 0],\n        [0, 0, 0, ..., 0, 0, 0]],\n\n       ...,\n\n       [[0, 0, 0, ..., 0, 0, 0],\n        [0, 0, 0, ..., 0, 0, 0],\n        [0, 0, 0, ..., 0, 0, 0],\n        ...,\n        [0, 0, 0, ..., 0, 0, 0],\n        [0, 0, 0, ..., 0, 0, 0],\n        [0, 0, 0, ..., 0, 0, 0]],\n\n       [[0, 0, 0, ..., 0, 0, 0],\n        [0, 0, 0, ..., 0, 0, 0],\n        [0, 0, 0, ..., 0, 0, 0],\n        ...,\n        [0, 0, 0, ..., 0, 0, 0],\n        [0, 0, 0, ..., 0, 0, 0],\n        [0, 0, 0, ..., 0, 0, 0]],\n\n       [[0, 0, 0, ..., 0, 0, 0],\n        [0, 0, 0, ..., 0, 0, 0],\n        [0, 0, 0, ..., 0, 0, 0],\n        ...,\n        [0, 0, 0, ..., 0, 0, 0],\n        [0, 0, 0, ..., 0, 0, 0],\n        [0, 0, 0, ..., 0, 0, 0]]], dtype=uint8)"
     },
     "metadata": {},
     "execution_count": 12
    }
   ],
   "source": [
    "x_train[km.labels_ == 0]"
   ]
  },
  {
   "cell_type": "code",
   "execution_count": 13,
   "metadata": {},
   "outputs": [],
   "source": [
    "from huffman import HuffmanCoding\n",
    "\n",
    "dicts = []\n",
    "trees = []\n",
    "\n",
    "for i in range(256):\n",
    "    huff = HuffmanCoding()\n",
    "    label = x_train[km.labels_ == i]\n",
    "\n",
    "    label_list = [label[i, :, :].ravel() for i in range(len(label))]\n",
    "\n",
    "    n_cores = multi.cpu_count()\n",
    "    with Pool(n_cores) as p:\n",
    "        rle = p.map(runlength_encode, label_list)\n",
    "\n",
    "    rle = chain.from_iterable(rle)\n",
    "    enc = huff.encode(rle)\n",
    "\n",
    "    dicts.append(huff.code)\n",
    "    trees.append(huff.tree)\n",
    "\n"
   ]
  },
  {
   "cell_type": "code",
   "execution_count": 14,
   "metadata": {},
   "outputs": [
    {
     "output_type": "execute_result",
     "data": {
      "text/plain": "{70: '00000000',\n 205: '00000001',\n 110: '00000010',\n 198: '00000011',\n 74: '00000100',\n 203: '00000101',\n 208: '00000110',\n 194: '00000111',\n 103: '00001000',\n 217: '00001001',\n 92: '00001010',\n 20: '00001011',\n 241: '000011000',\n 123: '000011001',\n 86: '00001101',\n 76: '00001110',\n 73: '00001111',\n 210: '00010000',\n 67: '00010001',\n 80: '00010010',\n 187: '00010011',\n 140: '00010100',\n 160: '00010101',\n 235: '00010110',\n 82: '00010111',\n 155: '00011000',\n 201: '00011001',\n 183: '00011010',\n 184: '00011011',\n 190: '00011100',\n 93: '00011101',\n 220: '00011110',\n 150: '00011111',\n 100: '00100000',\n 22: '00100001',\n 204: '00100010',\n 62: '00100011',\n 133: '00100100',\n 26: '00100101',\n 233: '00100110',\n 32: '00100111',\n 193: '00101000',\n 185: '00101001',\n 180: '00101010',\n 199: '00101011',\n 106: '00101100',\n 149: '00101101',\n 202: '00101110',\n 186: '00101111',\n 47: '00110000',\n 191: '00110001',\n 240: '001100100',\n 252: '0011001010',\n 249: '0011001011',\n 102: '00110011',\n 64: '00110100',\n 175: '00110101',\n 77: '00110110',\n 16: '00110111',\n 17: '00111000',\n 29: '00111001',\n 222: '00111010',\n 234: '00111011',\n 19: '00111100',\n 195: '00111101',\n 25: '00111110',\n 72: '00111111',\n 2: '0100',\n 132: '01010000',\n 88: '01010001',\n 221: '01010010',\n 66: '01010011',\n 37: '01010100',\n 34: '01010101',\n 177: '01010110',\n 135: '01010111',\n 23: '01011000',\n 87: '01011001',\n 197: '01011010',\n 172: '01011011',\n 40: '01011100',\n 85: '01011101',\n 50: '01011110',\n 181: '01011111',\n 211: '01100000',\n 207: '01100001',\n 120: '011000100',\n 169: '011000101',\n 179: '01100011',\n 71: '01100100',\n 95: '01100101',\n 83: '01100110',\n 49: '01100111',\n 170: '01101000',\n 28: '01101001',\n 117: '011010100',\n 166: '011010101',\n 68: '01101011',\n 31: '01101100',\n 200: '01101101',\n 223: '01101110',\n 24: '01101111',\n 97: '01110000',\n 69: '01110001',\n 114: '011100100',\n 42: '011100101',\n 61: '01110011',\n 6: '011101',\n 12: '01111000',\n 167: '01111001',\n 130: '01111010',\n 145: '01111011',\n 126: '011111000',\n 161: '011111001',\n 162: '01111101',\n 224: '01111110',\n 157: '01111111',\n 226: '10000000',\n 188: '10000001',\n 45: '10000010',\n 90: '10000011',\n 153: '10000100',\n 13: '10000101',\n 56: '10000110',\n 232: '10000111',\n 27: '10001000',\n 15: '10001001',\n 134: '100010100',\n 238: '100010101',\n 239: '100010110',\n 163: '100010111',\n 36: '10001100',\n 227: '10001101',\n 5: '1000111',\n 122: '100100000',\n 116: '100100001',\n 63: '10010001',\n 54: '10010010',\n 38: '10010011',\n 7: '1001010',\n 225: '10010110',\n 21: '10010111',\n 4: '1001100',\n 96: '100110100',\n 250: '1001101010',\n 246: '1001101011',\n 58: '10011011',\n 11: '10011100',\n 39: '10011101',\n 51: '10011110',\n 18: '10011111',\n 0: '101',\n 3: '110000',\n 152: '110001000',\n 159: '110001001',\n 228: '11000101',\n 57: '11000110',\n 231: '11000111',\n 131: '110010000',\n 99: '110010001',\n 89: '110010010',\n 164: '110010011',\n 33: '110010100',\n 138: '110010101',\n 48: '11001011',\n 8: '1100110',\n 229: '11001110',\n 112: '110011110',\n 118: '110011111',\n 121: '110100000',\n 75: '110100001',\n 53: '11010001',\n 46: '11010010',\n 52: '11010011',\n 127: '110101000',\n 247: '1101010010',\n 245: '1101010011',\n 55: '11010101',\n 107: '110101100',\n 98: '110101101',\n 60: '11010111',\n 237: '110110000',\n 158: '110110001',\n 119: '110110010',\n 35: '110110011',\n 230: '11011010',\n 156: '110110110',\n 124: '110110111',\n 154: '110111000',\n 109: '110111001',\n 212: '110111010',\n 128: '110111011',\n 244: '1101111000',\n 251: '1101111001',\n 143: '110111101',\n 41: '11011111',\n 84: '1110000000',\n 248: '1110000001',\n 146: '111000001',\n 147: '111000010',\n 142: '111000011',\n 182: '111000100',\n 108: '111000101',\n 255: '11100011',\n 81: '111001000',\n 111: '111001001',\n 216: '111001010',\n 171: '111001011',\n 129: '111001100',\n 79: '111001101',\n 174: '111001110',\n 219: '111001111',\n 9: '11101000',\n 59: '111010010',\n 242: '1110100110',\n 254: '1110100111',\n 151: '111010100',\n 236: '111010101',\n 30: '111010110',\n 206: '111010111',\n 94: '111011000',\n 113: '111011001',\n 148: '111011010',\n 215: '111011011',\n 10: '11101110',\n 213: '111011110',\n 136: '111011111',\n 192: '111100000',\n 178: '111100001',\n 139: '111100010',\n 91: '111100011',\n 218: '111100100',\n 189: '111100101',\n 43: '11110011',\n 196: '111101000',\n 243: '1111010010',\n 253: '1111010011',\n 101: '111101010',\n 104: '111101011',\n 165: '111101100',\n 65: '111101101',\n 78: '111101110',\n 173: '111101111',\n 44: '111110000',\n 144: '111110001',\n 115: '111110010',\n 125: '111110011',\n 1: '1111101',\n 168: '111111000',\n 105: '111111001',\n 214: '111111010',\n 176: '111111011',\n 209: '111111100',\n 137: '111111101',\n 14: '111111110',\n 141: '111111111'}"
     },
     "metadata": {},
     "execution_count": 14
    }
   ],
   "source": [
    "dicts[0]"
   ]
  },
  {
   "cell_type": "code",
   "execution_count": 15,
   "metadata": {},
   "outputs": [],
   "source": [
    "with open(\"dicts.pkl\", \"wb\") as f:\n",
    "    pickle.dump(dicts, f)\n",
    "\n",
    "with open(\"trees.pkl\", \"wb\") as f:\n",
    "    pickle.dump(trees, f)"
   ]
  },
  {
   "cell_type": "code",
   "execution_count": 19,
   "metadata": {
    "tags": []
   },
   "outputs": [
    {
     "output_type": "stream",
     "name": "stdout",
     "text": "[<huffman.Node object at 0x14bcce790>, <huffman.Node object at 0x14f0342d0>, <huffman.Node object at 0x14fcdf7d0>, <huffman.Node object at 0x14fd8cad0>, <huffman.Node object at 0x14bcca750>, <huffman.Node object at 0x14ee15910>, <huffman.Node object at 0x1504fad90>, <huffman.Node object at 0x1504bd8d0>, <huffman.Node object at 0x14fcafdd0>, <huffman.Node object at 0x15044d590>, <huffman.Node object at 0x14bcef850>, <huffman.Node object at 0x14f7fa610>, <huffman.Node object at 0x14f548890>, <huffman.Node object at 0x14f5dd710>, <huffman.Node object at 0x14fbd90d0>, <huffman.Node object at 0x14f612710>, <huffman.Node object at 0x14f80ce90>, <huffman.Node object at 0x14f047650>, <huffman.Node object at 0x14bcd6690>, <huffman.Node object at 0x14fab2710>, <huffman.Node object at 0x14f5e3590>, <huffman.Node object at 0x14f938ed0>, <huffman.Node object at 0x14bcea990>, <huffman.Node object at 0x14bce45d0>, <huffman.Node object at 0x14f104ed0>, <huffman.Node object at 0x14f790dd0>, <huffman.Node object at 0x14f98c850>, <huffman.Node object at 0x14f54ebd0>, <huffman.Node object at 0x14f6c4490>, <huffman.Node object at 0x14bcdf690>, <huffman.Node object at 0x14bca5250>, <huffman.Node object at 0x14bcf1150>, <huffman.Node object at 0x14bc7d990>, <huffman.Node object at 0x14fdc3090>, <huffman.Node object at 0x15085f090>, <huffman.Node object at 0x150824e90>, <huffman.Node object at 0x15086f8d0>, <huffman.Node object at 0x15087bdd0>, <huffman.Node object at 0x150870650>, <huffman.Node object at 0x150893d50>, <huffman.Node object at 0x1508d42d0>, <huffman.Node object at 0x1508aae90>, <huffman.Node object at 0x1508a4950>, <huffman.Node object at 0x1508bf110>, <huffman.Node object at 0x15093dcd0>, <huffman.Node object at 0x150921350>, <huffman.Node object at 0x15094be90>, <huffman.Node object at 0x150955490>, <huffman.Node object at 0x150962890>, <huffman.Node object at 0x150981590>, <huffman.Node object at 0x150769e10>, <huffman.Node object at 0x15076e990>, <huffman.Node object at 0x1507830d0>, <huffman.Node object at 0x150798c50>, <huffman.Node object at 0x1507bcb50>, <huffman.Node object at 0x1507ac6d0>, <huffman.Node object at 0x1507acd90>, <huffman.Node object at 0x1507a3bd0>, <huffman.Node object at 0x1507d9fd0>, <huffman.Node object at 0x1507b7650>, <huffman.Node object at 0x1507b02d0>, <huffman.Node object at 0x1509ac410>, <huffman.Node object at 0x1509acc50>, <huffman.Node object at 0x1509b5650>, <huffman.Node object at 0x1509be050>, <huffman.Node object at 0x1509ceb50>, <huffman.Node object at 0x1509dff90>, <huffman.Node object at 0x1509e7e10>, <huffman.Node object at 0x150a094d0>, <huffman.Node object at 0x150a09e90>, <huffman.Node object at 0x150a2b050>, <huffman.Node object at 0x150a438d0>, <huffman.Node object at 0x150a5c8d0>, <huffman.Node object at 0x150a6de90>, <huffman.Node object at 0x150a8ebd0>, <huffman.Node object at 0x150a9f490>, <huffman.Node object at 0x150a9fbd0>, <huffman.Node object at 0x150aa73d0>, <huffman.Node object at 0x150ac0250>, <huffman.Node object at 0x150ad1290>, <huffman.Node object at 0x150ad1dd0>, <huffman.Node object at 0x150ae1f90>, <huffman.Node object at 0x150af38d0>, <huffman.Node object at 0x150b03690>, <huffman.Node object at 0x150b14bd0>, <huffman.Node object at 0x150b1d350>, <huffman.Node object at 0x150b1da90>, <huffman.Node object at 0x150b24410>, <huffman.Node object at 0x150b352d0>, <huffman.Node object at 0x150b3e9d0>, <huffman.Node object at 0x150b573d0>, <huffman.Node object at 0x150b57c90>, <huffman.Node object at 0x150b6f190>, <huffman.Node object at 0x150b80ad0>, <huffman.Node object at 0x150b998d0>, <huffman.Node object at 0x150bb3f50>, <huffman.Node object at 0x150bcb0d0>, <huffman.Node object at 0x150be4050>, <huffman.Node object at 0x150bfe050>, <huffman.Node object at 0x150c06cd0>, <huffman.Node object at 0x150c16b90>, <huffman.Node object at 0x150c2f490>, <huffman.Node object at 0x150c403d0>, <huffman.Node object at 0x150c40890>, <huffman.Node object at 0x150c48b10>, <huffman.Node object at 0x150c5a8d0>, <huffman.Node object at 0x150c6ad10>, <huffman.Node object at 0x150c7b7d0>, <huffman.Node object at 0x150c95150>, <huffman.Node object at 0x150ca4c10>, <huffman.Node object at 0x150cad390>, <huffman.Node object at 0x150cbe550>, <huffman.Node object at 0x150cdf590>, <huffman.Node object at 0x150cf8490>, <huffman.Node object at 0x150d09c50>, <huffman.Node object at 0x150d21a50>, <huffman.Node object at 0x150d43110>, <huffman.Node object at 0x150d5c190>, <huffman.Node object at 0x150d5c9d0>, <huffman.Node object at 0x150d6dc10>, <huffman.Node object at 0x150d75410>, <huffman.Node object at 0x150d865d0>, <huffman.Node object at 0x150d8ff50>, <huffman.Node object at 0x150da7250>, <huffman.Node object at 0x150db8810>, <huffman.Node object at 0x150dc9d50>, <huffman.Node object at 0x150dea210>, <huffman.Node object at 0x150e03b90>, <huffman.Node object at 0x150e0c590>, <huffman.Node object at 0x150e1dfd0>, <huffman.Node object at 0x150e3ea10>, <huffman.Node object at 0x150e57910>, <huffman.Node object at 0x150e5f610>, <huffman.Node object at 0x150e66790>, <huffman.Node object at 0x150e70e10>, <huffman.Node object at 0x150e7f650>, <huffman.Node object at 0x150e7fc90>, <huffman.Node object at 0x150e91fd0>, <huffman.Node object at 0x150eb2390>, <huffman.Node object at 0x150eb2cd0>, <huffman.Node object at 0x150ebaad0>, <huffman.Node object at 0x150ed3650>, <huffman.Node object at 0x150ee4e10>, <huffman.Node object at 0x150ef57d0>, <huffman.Node object at 0x150f06c10>, <huffman.Node object at 0x150f0f610>, <huffman.Node object at 0x150f201d0>, <huffman.Node object at 0x150f30410>, <huffman.Node object at 0x150f40bd0>, <huffman.Node object at 0x150f52410>, <huffman.Node object at 0x150f62bd0>, <huffman.Node object at 0x150f6a250>, <huffman.Node object at 0x150f73950>, <huffman.Node object at 0x150f83810>, <huffman.Node object at 0x150f95bd0>, <huffman.Node object at 0x150fae450>, <huffman.Node object at 0x150fc6b50>, <huffman.Node object at 0x150fd7690>, <huffman.Node object at 0x150fe1110>, <huffman.Node object at 0x150fe8210>, <huffman.Node object at 0x150ff9a50>, <huffman.Node object at 0x151009f90>, <huffman.Node object at 0x15101a550>, <huffman.Node object at 0x1510332d0>, <huffman.Node object at 0x151044590>, <huffman.Node object at 0x15105e210>, <huffman.Node object at 0x15105eb50>, <huffman.Node object at 0x151065cd0>, <huffman.Node object at 0x15106e1d0>, <huffman.Node object at 0x15107ff90>, <huffman.Node object at 0x151098a90>, <huffman.Node object at 0x1510a86d0>, <huffman.Node object at 0x1510b9190>, <huffman.Node object at 0x1510d3210>, <huffman.Node object at 0x1510dbd90>, <huffman.Node object at 0x1510ebdd0>, <huffman.Node object at 0x1510fdf10>, <huffman.Node object at 0x151116410>, <huffman.Node object at 0x151126450>, <huffman.Node object at 0x1511403d0>, <huffman.Node object at 0x151140d90>, <huffman.Node object at 0x151159790>, <huffman.Node object at 0x15116a450>, <huffman.Node object at 0x15117a510>, <huffman.Node object at 0x15118a950>, <huffman.Node object at 0x15119de10>, <huffman.Node object at 0x1511ad850>, <huffman.Node object at 0x1511bd410>, <huffman.Node object at 0x1511c5790>, <huffman.Node object at 0x1511e7650>, <huffman.Node object at 0x1511f8110>, <huffman.Node object at 0x151201090>, <huffman.Node object at 0x1512112d0>, <huffman.Node object at 0x151211a90>, <huffman.Node object at 0x15122a310>, <huffman.Node object at 0x15122aa50>, <huffman.Node object at 0x15123c090>, <huffman.Node object at 0x15124c650>, <huffman.Node object at 0x15125d310>, <huffman.Node object at 0x151266090>, <huffman.Node object at 0x15126d490>, <huffman.Node object at 0x15126dd50>, <huffman.Node object at 0x151277dd0>, <huffman.Node object at 0x151286690>, <huffman.Node object at 0x15128fc90>, <huffman.Node object at 0x1512a1a50>, <huffman.Node object at 0x1512b2b90>, <huffman.Node object at 0x1512c2a50>, <huffman.Node object at 0x1512d4b90>, <huffman.Node object at 0x1512ec310>, <huffman.Node object at 0x1512ecb50>, <huffman.Node object at 0x1512f53d0>, <huffman.Node object at 0x151305090>, <huffman.Node object at 0x1513166d0>, <huffman.Node object at 0x151327310>, <huffman.Node object at 0x15132fc10>, <huffman.Node object at 0x1513407d0>, <huffman.Node object at 0x151351890>, <huffman.Node object at 0x15135a210>, <huffman.Node object at 0x15136a350>, <huffman.Node object at 0x15137ba10>, <huffman.Node object at 0x151394310>, <huffman.Node object at 0x1513a5a50>, <huffman.Node object at 0x1513b6490>, <huffman.Node object at 0x1513c6950>, <huffman.Node object at 0x1513d7910>, <huffman.Node object at 0x1513f1390>, <huffman.Node object at 0x1514011d0>, <huffman.Node object at 0x151411b90>, <huffman.Node object at 0x151424450>, <huffman.Node object at 0x151434490>, <huffman.Node object at 0x15143c990>, <huffman.Node object at 0x15144dfd0>, <huffman.Node object at 0x1514671d0>, <huffman.Node object at 0x151477210>, <huffman.Node object at 0x15147fd90>, <huffman.Node object at 0x151490c50>, <huffman.Node object at 0x1514a2310>, <huffman.Node object at 0x1514a9710>, <huffman.Node object at 0x1514bacd0>, <huffman.Node object at 0x1514cbb10>, <huffman.Node object at 0x1514e5090>, <huffman.Node object at 0x1514e5c50>, <huffman.Node object at 0x1514f5310>, <huffman.Node object at 0x1514fea10>, <huffman.Node object at 0x151507190>, <huffman.Node object at 0x151518050>, <huffman.Node object at 0x151528e90>, <huffman.Node object at 0x151548450>, <huffman.Node object at 0x151548d10>, <huffman.Node object at 0x151562210>, <huffman.Node object at 0x15156bf10>, <huffman.Node object at 0x15157c8d0>, <huffman.Node object at 0x15158c510>, <huffman.Node object at 0x15159d450>, <huffman.Node object at 0x1515b6850>]\n"
    }
   ],
   "source": [
    "with open(\"trees.pkl\", \"rb\") as f:\n",
    "    trees_loaded = pickle.load(f)\n",
    "\n",
    "print(trees_loaded)"
   ]
  },
  {
   "cell_type": "code",
   "execution_count": 16,
   "metadata": {},
   "outputs": [
    {
     "output_type": "execute_result",
     "data": {
      "text/plain": "array([[111.8164557 ,  20.34810127,  35.67088608, ...,  27.96202532,\n         29.08227848,  25.38607595],\n       [ 35.59452055,  10.7369863 ,  17.96986301, ...,   9.40821918,\n         10.40273973,  10.61917808],\n       [ 75.12121212,  12.03030303,  14.85353535, ...,   9.26767677,\n          9.62121212,  11.46969697],\n       ...,\n       [ 74.01877934,  17.82629108,  34.15023474, ...,  13.18779343,\n         17.7370892 ,  15.86384977],\n       [ 80.83414239,  23.85355987,  37.92394822, ...,  15.97168285,\n         19.91666667,  22.1618123 ],\n       [ 40.54285714,   1.13333333,  15.0952381 , ...,   6.95238095,\n          7.39047619,   1.58095238]])"
     },
     "metadata": {},
     "execution_count": 16
    }
   ],
   "source": [
    "with open(\"cluster_centers.pkl\", \"wb\") as f:\n",
    "    pickle.dump(km.cluster_centers_, f)\n",
    "\n",
    "km.cluster_centers_"
   ]
  },
  {
   "cell_type": "code",
   "execution_count": null,
   "metadata": {},
   "outputs": [],
   "source": []
  }
 ]
}
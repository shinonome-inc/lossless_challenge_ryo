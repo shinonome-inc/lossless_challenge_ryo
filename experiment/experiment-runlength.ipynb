{
 "cells": [
  {
   "cell_type": "markdown",
   "metadata": {},
   "source": [
    "まずはfashionmnistのデータをサイトの付属の関数を使って読み込みます。"
   ]
  },
  {
   "cell_type": "code",
   "execution_count": 1,
   "metadata": {},
   "outputs": [],
   "source": [
    "import matplotlib.pyplot as plt\n",
    "import numpy as np\n",
    "import filter\n",
    "\n",
    "\n",
    "def load_mnist(path, kind='train'):\n",
    "    import os\n",
    "    import gzip\n",
    "    import numpy as np\n",
    "\n",
    "\n",
    "    \"\"\"Load MNIST data from `path`\"\"\"\n",
    "    labels_path = os.path.join(path,\n",
    "                               '%s-labels-idx1-ubyte.gz'\n",
    "                               % kind)\n",
    "    images_path = os.path.join(path,\n",
    "                               '%s-images-idx3-ubyte.gz'\n",
    "                               % kind)\n",
    "\n",
    "    with gzip.open(labels_path, 'rb') as lbpath:\n",
    "        labels = np.frombuffer(lbpath.read(), dtype=np.uint8,\n",
    "                               offset=8)\n",
    "\n",
    "    with gzip.open(images_path, 'rb') as imgpath:\n",
    "        images = np.frombuffer(imgpath.read(), dtype=np.uint8,\n",
    "                               offset=16).reshape(len(labels), 784)\n",
    "\n",
    "    return images, labels\n",
    "\n",
    "X_train, y_train = load_mnist('', kind='train')"
   ]
  },
  {
   "cell_type": "markdown",
   "metadata": {},
   "source": [
    "X_trainに訓練データ6万の画像の画素値を60000×784の配列で取得できました。ランレングス符号化を施してみると"
   ]
  },
  {
   "cell_type": "code",
   "execution_count": 2,
   "metadata": {},
   "outputs": [
    {
     "name": "stdout",
     "output_type": "stream",
     "text": [
      "30400126\n"
     ]
    }
   ],
   "source": [
    "def runlength_encode(data):\n",
    "    out = []\n",
    "\n",
    "    cnt = 1\n",
    "    for i in range(1, len(data)):\n",
    "        # Split run if it's longer than 255 (for rangecoder)\n",
    "        if cnt == 255:\n",
    "            out.append(data[i-1])\n",
    "            out.append(data[i-1])\n",
    "            out.append(cnt)\n",
    "            cnt = 0\n",
    "        \n",
    "        if data[i] == data[i-1]:\n",
    "            cnt += 1\n",
    "            continue\n",
    "        \n",
    "        out.append(data[i-1])\n",
    "\n",
    "        if cnt > 1:\n",
    "            out.append(data[i-1])\n",
    "            out.append(cnt)\n",
    "            cnt = 1\n",
    "    \n",
    "    if cnt == 1:\n",
    "        out.append(data[-1])\n",
    "    else:\n",
    "        out.append(data[-1])\n",
    "        out.append(data[-1])\n",
    "        out.append(cnt)\n",
    "    \n",
    "    return out\n",
    "\n",
    "print(len(runlength_encode(X_train.reshape(-1,))))"
   ]
  },
  {
   "cell_type": "markdown",
   "metadata": {},
   "source": [
    "元の画素の総数が60000×28×28 = 47040000より，単純計算で一枚あたり平均277.7ピクセルの削減に成功しています。\n"
   ]
  },
  {
   "cell_type": "code",
   "execution_count": null,
   "metadata": {},
   "outputs": [],
   "source": []
  }
 ],
 "metadata": {
  "kernelspec": {
   "display_name": "Python 3",
   "language": "python",
   "name": "python3"
  },
  "language_info": {
   "codemirror_mode": {
    "name": "ipython",
    "version": 3
   },
   "file_extension": ".py",
   "mimetype": "text/x-python",
   "name": "python",
   "nbconvert_exporter": "python",
   "pygments_lexer": "ipython3",
   "version": "3.7.6"
  }
 },
 "nbformat": 4,
 "nbformat_minor": 4
}
